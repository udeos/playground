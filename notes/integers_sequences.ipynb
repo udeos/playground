{
 "cells": [
  {
   "cell_type": "code",
   "execution_count": 4,
   "metadata": {
    "collapsed": true
   },
   "outputs": [],
   "source": [
    "%matplotlib inline\n",
    "\n",
    "import numpy as np\n",
    "import pandas as pd\n",
    "\n",
    "from sklearn import linear_model, cross_validation\n",
    "from matplotlib import pyplot as plt"
   ]
  },
  {
   "cell_type": "code",
   "execution_count": 369,
   "metadata": {
    "collapsed": false
   },
   "outputs": [],
   "source": [
    "dataset = pd.read_csv('../datasets/integers sequences/train.csv')\n",
    "\n",
    "X = []\n",
    "Y = []\n",
    "for seq in dataset['Sequence']:\n",
    "    seq = seq.split(',')\n",
    "    if len(seq) < 3:\n",
    "        continue\n",
    "    X.append(seq[:-1])\n",
    "    Y.append(seq[-1])\n",
    "\n",
    "X = np.array(X)\n",
    "Y = np.array(Y)\n",
    "\n",
    "X_lens = pd.DataFrame([len(x) for x in X])\n",
    "mask = X_lens < 110\n",
    "mask = mask.as_matrix()\n",
    "mask = mask.reshape((mask.shape[0]))\n",
    "X, Y = X[mask], Y[mask]\n",
    "X = [map(int, x) for x in X]\n",
    "Y = [int(y) for y in Y]"
   ]
  },
  {
   "cell_type": "code",
   "execution_count": 371,
   "metadata": {
    "collapsed": false
   },
   "outputs": [
    {
     "data": {
      "text/plain": [
       "1"
      ]
     },
     "execution_count": 371,
     "metadata": {},
     "output_type": "execute_result"
    },
    {
     "data": {
      "image/png": "[encoded data removed]",
      "text/plain": [
       "<matplotlib.figure.Figure at 0x7f8b8cd01790>"
      ]
     },
     "metadata": {},
     "output_type": "display_data"
    }
   ],
   "source": [
    "X_lens = pd.DataFrame([len(x) for x in X])\n",
    "plt.hist(X_lens, 100)\n",
    "1"
   ]
  },
  {
   "cell_type": "code",
   "execution_count": null,
   "metadata": {
    "collapsed": true
   },
   "outputs": [],
   "source": [
    "# возрастающая / убывающая / строго возрастающая / строго убывающая\n",
    "# палиндром\n",
    "# \n",
    "# \n",
    "# \n",
    "# \n",
    "# \n",
    "# \n",
    "# "
   ]
  },
  {
   "cell_type": "code",
   "execution_count": 300,
   "metadata": {
    "collapsed": false
   },
   "outputs": [],
   "source": [
    "def calc_deriviate(fv):\n",
    "    return map(lambda v: v[1] - v[0], zip(fv[:-1], fv[1:]))"
   ]
  },
  {
   "cell_type": "code",
   "execution_count": 372,
   "metadata": {
    "collapsed": false
   },
   "outputs": [
    {
     "data": {
      "image/png": "[encoded data removed]",
      "text/plain": [
       "<matplotlib.figure.Figure at 0x7f8b98eac8d0>"
      ]
     },
     "metadata": {},
     "output_type": "display_data"
    }
   ],
   "source": [
    "cnt, i = 1, 0\n",
    "for x in X:\n",
    "    if i == cnt:\n",
    "        break\n",
    "    x = map(int, x)\n",
    "    if max(x) < 1000 and 48 < len(x) < 50:\n",
    "        plt.plot(range(len(x)), x)\n",
    "        plt.plot(range(len(x) - 1), calc_deriviate(x))\n",
    "#         plt.plot(range(len(x) - 2), calc_deriviate(calc_deriviate(x)))\n",
    "#         plt.plot(range(len(x) - 3), calc_deriviate(calc_deriviate(calc_deriviate(x))))\n",
    "        i += 1"
   ]
  },
  {
   "cell_type": "code",
   "execution_count": 373,
   "metadata": {
    "collapsed": true
   },
   "outputs": [],
   "source": [
    "def score(Y1, Y2):\n",
    "    return len(filter(None, [t1 == t2 for t1, t2 in zip(Y1, Y2)])) / float(len(Y1))"
   ]
  },
  {
   "cell_type": "code",
   "execution_count": 406,
   "metadata": {
    "collapsed": false
   },
   "outputs": [],
   "source": [
    "X1d = [calc_deriviate(x) for x in X]"
   ]
  },
  {
   "cell_type": "code",
   "execution_count": null,
   "metadata": {
    "collapsed": false
   },
   "outputs": [],
   "source": [
    "Yres = map(lambda t: t[0] + t[1], zip([x[-1] for x in X], [int(np.round(np.median(x))) for x in X1d]))"
   ]
  },
  {
   "cell_type": "code",
   "execution_count": null,
   "metadata": {
    "collapsed": false
   },
   "outputs": [],
   "source": [
    "score(Y, Yres)"
   ]
  },
  {
   "cell_type": "code",
   "execution_count": null,
   "metadata": {
    "collapsed": true
   },
   "outputs": [],
   "source": []
  }
 ],
 "metadata": {
  "kernelspec": {
   "display_name": "Python 2",
   "language": "python",
   "name": "python2"
  },
  "language_info": {
   "codemirror_mode": {
    "name": "ipython",
    "version": 2
   },
   "file_extension": ".py",
   "mimetype": "text/x-python",
   "name": "python",
   "nbconvert_exporter": "python",
   "pygments_lexer": "ipython2",
   "version": "2.7.10"
  }
 },
 "nbformat": 4,
 "nbformat_minor": 0
}
